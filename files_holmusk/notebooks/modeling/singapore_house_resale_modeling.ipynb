{
 "cells": [
  {
   "cell_type": "markdown",
   "metadata": {},
   "source": [
    "# Modeling the data"
   ]
  },
  {
   "cell_type": "code",
   "execution_count": 1,
   "metadata": {
    "collapsed": true
   },
   "outputs": [],
   "source": [
    "import numpy as np\n",
    "import pandas as pd\n",
    "import matplotlib.pyplot as plt\n",
    "import seaborn as sns\n"
   ]
  },
  {
   "cell_type": "code",
   "execution_count": 3,
   "metadata": {},
   "outputs": [
    {
     "data": {
      "text/html": [
       "<div>\n",
       "<style>\n",
       "    .dataframe thead tr:only-child th {\n",
       "        text-align: right;\n",
       "    }\n",
       "\n",
       "    .dataframe thead th {\n",
       "        text-align: left;\n",
       "    }\n",
       "\n",
       "    .dataframe tbody tr th {\n",
       "        vertical-align: top;\n",
       "    }\n",
       "</style>\n",
       "<table border=\"1\" class=\"dataframe\">\n",
       "  <thead>\n",
       "    <tr style=\"text-align: right;\">\n",
       "      <th></th>\n",
       "      <th>month</th>\n",
       "      <th>town</th>\n",
       "      <th>flat_type</th>\n",
       "      <th>block</th>\n",
       "      <th>street_name</th>\n",
       "      <th>storey_range</th>\n",
       "      <th>floor_area_sqm</th>\n",
       "      <th>flat_model</th>\n",
       "      <th>lease_commence_date</th>\n",
       "      <th>remaining_lease</th>\n",
       "      <th>resale_price</th>\n",
       "    </tr>\n",
       "  </thead>\n",
       "  <tbody>\n",
       "    <tr>\n",
       "      <th>0</th>\n",
       "      <td>2015-01</td>\n",
       "      <td>ANG MO KIO</td>\n",
       "      <td>3 ROOM</td>\n",
       "      <td>174</td>\n",
       "      <td>ANG MO KIO AVE 4</td>\n",
       "      <td>07 TO 09</td>\n",
       "      <td>60.0</td>\n",
       "      <td>Improved</td>\n",
       "      <td>1986</td>\n",
       "      <td>70</td>\n",
       "      <td>255000.0</td>\n",
       "    </tr>\n",
       "    <tr>\n",
       "      <th>1</th>\n",
       "      <td>2015-01</td>\n",
       "      <td>ANG MO KIO</td>\n",
       "      <td>3 ROOM</td>\n",
       "      <td>541</td>\n",
       "      <td>ANG MO KIO AVE 10</td>\n",
       "      <td>01 TO 03</td>\n",
       "      <td>68.0</td>\n",
       "      <td>New Generation</td>\n",
       "      <td>1981</td>\n",
       "      <td>65</td>\n",
       "      <td>275000.0</td>\n",
       "    </tr>\n",
       "    <tr>\n",
       "      <th>2</th>\n",
       "      <td>2015-01</td>\n",
       "      <td>ANG MO KIO</td>\n",
       "      <td>3 ROOM</td>\n",
       "      <td>163</td>\n",
       "      <td>ANG MO KIO AVE 4</td>\n",
       "      <td>01 TO 03</td>\n",
       "      <td>69.0</td>\n",
       "      <td>New Generation</td>\n",
       "      <td>1980</td>\n",
       "      <td>64</td>\n",
       "      <td>285000.0</td>\n",
       "    </tr>\n",
       "    <tr>\n",
       "      <th>3</th>\n",
       "      <td>2015-01</td>\n",
       "      <td>ANG MO KIO</td>\n",
       "      <td>3 ROOM</td>\n",
       "      <td>446</td>\n",
       "      <td>ANG MO KIO AVE 10</td>\n",
       "      <td>01 TO 03</td>\n",
       "      <td>68.0</td>\n",
       "      <td>New Generation</td>\n",
       "      <td>1979</td>\n",
       "      <td>63</td>\n",
       "      <td>290000.0</td>\n",
       "    </tr>\n",
       "    <tr>\n",
       "      <th>4</th>\n",
       "      <td>2015-01</td>\n",
       "      <td>ANG MO KIO</td>\n",
       "      <td>3 ROOM</td>\n",
       "      <td>557</td>\n",
       "      <td>ANG MO KIO AVE 10</td>\n",
       "      <td>07 TO 09</td>\n",
       "      <td>68.0</td>\n",
       "      <td>New Generation</td>\n",
       "      <td>1980</td>\n",
       "      <td>64</td>\n",
       "      <td>290000.0</td>\n",
       "    </tr>\n",
       "  </tbody>\n",
       "</table>\n",
       "</div>"
      ],
      "text/plain": [
       "     month        town flat_type block        street_name storey_range  \\\n",
       "0  2015-01  ANG MO KIO    3 ROOM   174   ANG MO KIO AVE 4     07 TO 09   \n",
       "1  2015-01  ANG MO KIO    3 ROOM   541  ANG MO KIO AVE 10     01 TO 03   \n",
       "2  2015-01  ANG MO KIO    3 ROOM   163   ANG MO KIO AVE 4     01 TO 03   \n",
       "3  2015-01  ANG MO KIO    3 ROOM   446  ANG MO KIO AVE 10     01 TO 03   \n",
       "4  2015-01  ANG MO KIO    3 ROOM   557  ANG MO KIO AVE 10     07 TO 09   \n",
       "\n",
       "   floor_area_sqm      flat_model  lease_commence_date  remaining_lease  \\\n",
       "0            60.0        Improved                 1986               70   \n",
       "1            68.0  New Generation                 1981               65   \n",
       "2            69.0  New Generation                 1980               64   \n",
       "3            68.0  New Generation                 1979               63   \n",
       "4            68.0  New Generation                 1980               64   \n",
       "\n",
       "   resale_price  \n",
       "0      255000.0  \n",
       "1      275000.0  \n",
       "2      285000.0  \n",
       "3      290000.0  \n",
       "4      290000.0  "
      ]
     },
     "execution_count": 3,
     "metadata": {},
     "output_type": "execute_result"
    }
   ],
   "source": [
    "path_to_data_mine = '../../data_mine/'\n",
    "#file_name = 'resale-flat-prices-based-on-approval-date-1990-1999.csv'\n",
    "#file_name = 'resale-flat-prices-based-on-approval-date-2000-feb-2012.csv'\n",
    "#file_name  = 'resale-flat-prices-based-on-registration-date-from-mar-2012-to-dec-2014.csv'\n",
    "file_name = 'resale-flat-prices-based-on-registration-date-from-jan-2015-onwards.csv'\n",
    "\n",
    "\n",
    "\n",
    "path_to_file = path_to_data_mine + file_name\n",
    "\n",
    "df = pd.read_csv(path_to_file, encoding='utf-8')\n",
    "\n",
    "df . head()"
   ]
  },
  {
   "cell_type": "markdown",
   "metadata": {},
   "source": [
    "# Encoding block and street names: \n",
    "- replace block and street_name with number of times they appear in training data.\n"
   ]
  },
  {
   "cell_type": "code",
   "execution_count": 4,
   "metadata": {
    "collapsed": true
   },
   "outputs": [],
   "source": [
    "block_frq, st_name_frq = df['block'].value_counts(), df['street_name'].value_counts()"
   ]
  },
  {
   "cell_type": "markdown",
   "metadata": {},
   "source": [
    "## Add these as new columns, and delete original block/street names"
   ]
  },
  {
   "cell_type": "code",
   "execution_count": 7,
   "metadata": {
    "collapsed": true
   },
   "outputs": [],
   "source": [
    "df['block_fr'] = block_frq[df['block'].values].values\n",
    "df['st_name_fr'] = st_name_frq[df['street_name'].values].values\n",
    "\n",
    "del df['block'], df['street_name']"
   ]
  },
  {
   "cell_type": "markdown",
   "metadata": {},
   "source": [
    "# Create new feature:\n",
    "* month of sale (categorical: 01 to 12)\n",
    "* number of years between lease start and sale: (numerical)"
   ]
  },
  {
   "cell_type": "code",
   "execution_count": 8,
   "metadata": {
    "collapsed": true
   },
   "outputs": [],
   "source": [
    "df['years_since_leased'] = np.array([int(dt.split('-')[0]) for dt in df['month'].values]) - df['lease_commence_date'].values\n",
    "df['month_of_sale'] = np.array([dt.split('-')[1] for dt in df['month'].values])\n",
    "del df['month'], df['lease_commence_date']"
   ]
  },
  {
   "cell_type": "code",
   "execution_count": 9,
   "metadata": {},
   "outputs": [
    {
     "data": {
      "text/html": [
       "<div>\n",
       "<style>\n",
       "    .dataframe thead tr:only-child th {\n",
       "        text-align: right;\n",
       "    }\n",
       "\n",
       "    .dataframe thead th {\n",
       "        text-align: left;\n",
       "    }\n",
       "\n",
       "    .dataframe tbody tr th {\n",
       "        vertical-align: top;\n",
       "    }\n",
       "</style>\n",
       "<table border=\"1\" class=\"dataframe\">\n",
       "  <thead>\n",
       "    <tr style=\"text-align: right;\">\n",
       "      <th></th>\n",
       "      <th>town</th>\n",
       "      <th>flat_type</th>\n",
       "      <th>storey_range</th>\n",
       "      <th>floor_area_sqm</th>\n",
       "      <th>flat_model</th>\n",
       "      <th>remaining_lease</th>\n",
       "      <th>resale_price</th>\n",
       "      <th>block_fr</th>\n",
       "      <th>st_name_fr</th>\n",
       "      <th>years_since_leased</th>\n",
       "      <th>month_of_sale</th>\n",
       "    </tr>\n",
       "  </thead>\n",
       "  <tbody>\n",
       "    <tr>\n",
       "      <th>0</th>\n",
       "      <td>ANG MO KIO</td>\n",
       "      <td>3 ROOM</td>\n",
       "      <td>07 TO 09</td>\n",
       "      <td>60.0</td>\n",
       "      <td>Improved</td>\n",
       "      <td>70</td>\n",
       "      <td>255000.0</td>\n",
       "      <td>58</td>\n",
       "      <td>436</td>\n",
       "      <td>29</td>\n",
       "      <td>01</td>\n",
       "    </tr>\n",
       "    <tr>\n",
       "      <th>1</th>\n",
       "      <td>ANG MO KIO</td>\n",
       "      <td>3 ROOM</td>\n",
       "      <td>01 TO 03</td>\n",
       "      <td>68.0</td>\n",
       "      <td>New Generation</td>\n",
       "      <td>65</td>\n",
       "      <td>275000.0</td>\n",
       "      <td>56</td>\n",
       "      <td>826</td>\n",
       "      <td>34</td>\n",
       "      <td>01</td>\n",
       "    </tr>\n",
       "    <tr>\n",
       "      <th>2</th>\n",
       "      <td>ANG MO KIO</td>\n",
       "      <td>3 ROOM</td>\n",
       "      <td>01 TO 03</td>\n",
       "      <td>69.0</td>\n",
       "      <td>New Generation</td>\n",
       "      <td>64</td>\n",
       "      <td>285000.0</td>\n",
       "      <td>74</td>\n",
       "      <td>436</td>\n",
       "      <td>35</td>\n",
       "      <td>01</td>\n",
       "    </tr>\n",
       "    <tr>\n",
       "      <th>3</th>\n",
       "      <td>ANG MO KIO</td>\n",
       "      <td>3 ROOM</td>\n",
       "      <td>01 TO 03</td>\n",
       "      <td>68.0</td>\n",
       "      <td>New Generation</td>\n",
       "      <td>63</td>\n",
       "      <td>290000.0</td>\n",
       "      <td>61</td>\n",
       "      <td>826</td>\n",
       "      <td>36</td>\n",
       "      <td>01</td>\n",
       "    </tr>\n",
       "    <tr>\n",
       "      <th>4</th>\n",
       "      <td>ANG MO KIO</td>\n",
       "      <td>3 ROOM</td>\n",
       "      <td>07 TO 09</td>\n",
       "      <td>68.0</td>\n",
       "      <td>New Generation</td>\n",
       "      <td>64</td>\n",
       "      <td>290000.0</td>\n",
       "      <td>52</td>\n",
       "      <td>826</td>\n",
       "      <td>35</td>\n",
       "      <td>01</td>\n",
       "    </tr>\n",
       "  </tbody>\n",
       "</table>\n",
       "</div>"
      ],
      "text/plain": [
       "         town flat_type storey_range  floor_area_sqm      flat_model  \\\n",
       "0  ANG MO KIO    3 ROOM     07 TO 09            60.0        Improved   \n",
       "1  ANG MO KIO    3 ROOM     01 TO 03            68.0  New Generation   \n",
       "2  ANG MO KIO    3 ROOM     01 TO 03            69.0  New Generation   \n",
       "3  ANG MO KIO    3 ROOM     01 TO 03            68.0  New Generation   \n",
       "4  ANG MO KIO    3 ROOM     07 TO 09            68.0  New Generation   \n",
       "\n",
       "   remaining_lease  resale_price  block_fr  st_name_fr  years_since_leased  \\\n",
       "0               70      255000.0        58         436                  29   \n",
       "1               65      275000.0        56         826                  34   \n",
       "2               64      285000.0        74         436                  35   \n",
       "3               63      290000.0        61         826                  36   \n",
       "4               64      290000.0        52         826                  35   \n",
       "\n",
       "  month_of_sale  \n",
       "0            01  \n",
       "1            01  \n",
       "2            01  \n",
       "3            01  \n",
       "4            01  "
      ]
     },
     "execution_count": 9,
     "metadata": {},
     "output_type": "execute_result"
    }
   ],
   "source": [
    "df . head()"
   ]
  },
  {
   "cell_type": "markdown",
   "metadata": {},
   "source": [
    "# Separate X and y for model fitting"
   ]
  },
  {
   "cell_type": "code",
   "execution_count": 10,
   "metadata": {
    "collapsed": true
   },
   "outputs": [],
   "source": [
    "X = df[[col for col in df.columns if col != 'resale_price']]\n",
    "y = np.log(df['resale_price'])"
   ]
  },
  {
   "cell_type": "code",
   "execution_count": 11,
   "metadata": {},
   "outputs": [
    {
     "data": {
      "text/html": [
       "<div>\n",
       "<style>\n",
       "    .dataframe thead tr:only-child th {\n",
       "        text-align: right;\n",
       "    }\n",
       "\n",
       "    .dataframe thead th {\n",
       "        text-align: left;\n",
       "    }\n",
       "\n",
       "    .dataframe tbody tr th {\n",
       "        vertical-align: top;\n",
       "    }\n",
       "</style>\n",
       "<table border=\"1\" class=\"dataframe\">\n",
       "  <thead>\n",
       "    <tr style=\"text-align: right;\">\n",
       "      <th></th>\n",
       "      <th>town</th>\n",
       "      <th>flat_type</th>\n",
       "      <th>storey_range</th>\n",
       "      <th>floor_area_sqm</th>\n",
       "      <th>flat_model</th>\n",
       "      <th>remaining_lease</th>\n",
       "      <th>block_fr</th>\n",
       "      <th>st_name_fr</th>\n",
       "      <th>years_since_leased</th>\n",
       "      <th>month_of_sale</th>\n",
       "    </tr>\n",
       "  </thead>\n",
       "  <tbody>\n",
       "    <tr>\n",
       "      <th>0</th>\n",
       "      <td>ANG MO KIO</td>\n",
       "      <td>3 ROOM</td>\n",
       "      <td>07 TO 09</td>\n",
       "      <td>60.0</td>\n",
       "      <td>Improved</td>\n",
       "      <td>70</td>\n",
       "      <td>58</td>\n",
       "      <td>436</td>\n",
       "      <td>29</td>\n",
       "      <td>01</td>\n",
       "    </tr>\n",
       "    <tr>\n",
       "      <th>1</th>\n",
       "      <td>ANG MO KIO</td>\n",
       "      <td>3 ROOM</td>\n",
       "      <td>01 TO 03</td>\n",
       "      <td>68.0</td>\n",
       "      <td>New Generation</td>\n",
       "      <td>65</td>\n",
       "      <td>56</td>\n",
       "      <td>826</td>\n",
       "      <td>34</td>\n",
       "      <td>01</td>\n",
       "    </tr>\n",
       "    <tr>\n",
       "      <th>2</th>\n",
       "      <td>ANG MO KIO</td>\n",
       "      <td>3 ROOM</td>\n",
       "      <td>01 TO 03</td>\n",
       "      <td>69.0</td>\n",
       "      <td>New Generation</td>\n",
       "      <td>64</td>\n",
       "      <td>74</td>\n",
       "      <td>436</td>\n",
       "      <td>35</td>\n",
       "      <td>01</td>\n",
       "    </tr>\n",
       "    <tr>\n",
       "      <th>3</th>\n",
       "      <td>ANG MO KIO</td>\n",
       "      <td>3 ROOM</td>\n",
       "      <td>01 TO 03</td>\n",
       "      <td>68.0</td>\n",
       "      <td>New Generation</td>\n",
       "      <td>63</td>\n",
       "      <td>61</td>\n",
       "      <td>826</td>\n",
       "      <td>36</td>\n",
       "      <td>01</td>\n",
       "    </tr>\n",
       "    <tr>\n",
       "      <th>4</th>\n",
       "      <td>ANG MO KIO</td>\n",
       "      <td>3 ROOM</td>\n",
       "      <td>07 TO 09</td>\n",
       "      <td>68.0</td>\n",
       "      <td>New Generation</td>\n",
       "      <td>64</td>\n",
       "      <td>52</td>\n",
       "      <td>826</td>\n",
       "      <td>35</td>\n",
       "      <td>01</td>\n",
       "    </tr>\n",
       "  </tbody>\n",
       "</table>\n",
       "</div>"
      ],
      "text/plain": [
       "         town flat_type storey_range  floor_area_sqm      flat_model  \\\n",
       "0  ANG MO KIO    3 ROOM     07 TO 09            60.0        Improved   \n",
       "1  ANG MO KIO    3 ROOM     01 TO 03            68.0  New Generation   \n",
       "2  ANG MO KIO    3 ROOM     01 TO 03            69.0  New Generation   \n",
       "3  ANG MO KIO    3 ROOM     01 TO 03            68.0  New Generation   \n",
       "4  ANG MO KIO    3 ROOM     07 TO 09            68.0  New Generation   \n",
       "\n",
       "   remaining_lease  block_fr  st_name_fr  years_since_leased month_of_sale  \n",
       "0               70        58         436                  29            01  \n",
       "1               65        56         826                  34            01  \n",
       "2               64        74         436                  35            01  \n",
       "3               63        61         826                  36            01  \n",
       "4               64        52         826                  35            01  "
      ]
     },
     "execution_count": 11,
     "metadata": {},
     "output_type": "execute_result"
    }
   ],
   "source": [
    "X.head()"
   ]
  },
  {
   "cell_type": "markdown",
   "metadata": {},
   "source": [
    "# One-hot encode categorical features"
   ]
  },
  {
   "cell_type": "code",
   "execution_count": 12,
   "metadata": {},
   "outputs": [
    {
     "name": "stdout",
     "output_type": "stream",
     "text": [
      "town\n",
      "flat_type\n",
      "storey_range\n",
      "flat_model\n",
      "month_of_sale\n"
     ]
    },
    {
     "data": {
      "text/plain": [
       "(69767, 88)"
      ]
     },
     "execution_count": 12,
     "metadata": {},
     "output_type": "execute_result"
    }
   ],
   "source": [
    "X.shape\n",
    "categorical_features = ['town','flat_type','storey_range','flat_model', 'month_of_sale']\n",
    "for ft in categorical_features:\n",
    "    print (ft)\n",
    "    ft_one_hot = pd.get_dummies(X[ft], prefix=ft, prefix_sep=':')\n",
    "    X = X.join(ft_one_hot)\n",
    "    del X[ft]\n",
    "X.shape    "
   ]
  },
  {
   "cell_type": "code",
   "execution_count": 13,
   "metadata": {},
   "outputs": [
    {
     "data": {
      "text/html": [
       "<div>\n",
       "<style>\n",
       "    .dataframe thead tr:only-child th {\n",
       "        text-align: right;\n",
       "    }\n",
       "\n",
       "    .dataframe thead th {\n",
       "        text-align: left;\n",
       "    }\n",
       "\n",
       "    .dataframe tbody tr th {\n",
       "        vertical-align: top;\n",
       "    }\n",
       "</style>\n",
       "<table border=\"1\" class=\"dataframe\">\n",
       "  <thead>\n",
       "    <tr style=\"text-align: right;\">\n",
       "      <th></th>\n",
       "      <th>floor_area_sqm</th>\n",
       "      <th>remaining_lease</th>\n",
       "      <th>block_fr</th>\n",
       "      <th>st_name_fr</th>\n",
       "      <th>years_since_leased</th>\n",
       "      <th>town:ANG MO KIO</th>\n",
       "      <th>town:BEDOK</th>\n",
       "      <th>town:BISHAN</th>\n",
       "      <th>town:BUKIT BATOK</th>\n",
       "      <th>town:BUKIT MERAH</th>\n",
       "      <th>...</th>\n",
       "      <th>month_of_sale:03</th>\n",
       "      <th>month_of_sale:04</th>\n",
       "      <th>month_of_sale:05</th>\n",
       "      <th>month_of_sale:06</th>\n",
       "      <th>month_of_sale:07</th>\n",
       "      <th>month_of_sale:08</th>\n",
       "      <th>month_of_sale:09</th>\n",
       "      <th>month_of_sale:10</th>\n",
       "      <th>month_of_sale:11</th>\n",
       "      <th>month_of_sale:12</th>\n",
       "    </tr>\n",
       "  </thead>\n",
       "  <tbody>\n",
       "    <tr>\n",
       "      <th>0</th>\n",
       "      <td>60.0</td>\n",
       "      <td>70</td>\n",
       "      <td>58</td>\n",
       "      <td>436</td>\n",
       "      <td>29</td>\n",
       "      <td>1</td>\n",
       "      <td>0</td>\n",
       "      <td>0</td>\n",
       "      <td>0</td>\n",
       "      <td>0</td>\n",
       "      <td>...</td>\n",
       "      <td>0</td>\n",
       "      <td>0</td>\n",
       "      <td>0</td>\n",
       "      <td>0</td>\n",
       "      <td>0</td>\n",
       "      <td>0</td>\n",
       "      <td>0</td>\n",
       "      <td>0</td>\n",
       "      <td>0</td>\n",
       "      <td>0</td>\n",
       "    </tr>\n",
       "    <tr>\n",
       "      <th>1</th>\n",
       "      <td>68.0</td>\n",
       "      <td>65</td>\n",
       "      <td>56</td>\n",
       "      <td>826</td>\n",
       "      <td>34</td>\n",
       "      <td>1</td>\n",
       "      <td>0</td>\n",
       "      <td>0</td>\n",
       "      <td>0</td>\n",
       "      <td>0</td>\n",
       "      <td>...</td>\n",
       "      <td>0</td>\n",
       "      <td>0</td>\n",
       "      <td>0</td>\n",
       "      <td>0</td>\n",
       "      <td>0</td>\n",
       "      <td>0</td>\n",
       "      <td>0</td>\n",
       "      <td>0</td>\n",
       "      <td>0</td>\n",
       "      <td>0</td>\n",
       "    </tr>\n",
       "    <tr>\n",
       "      <th>2</th>\n",
       "      <td>69.0</td>\n",
       "      <td>64</td>\n",
       "      <td>74</td>\n",
       "      <td>436</td>\n",
       "      <td>35</td>\n",
       "      <td>1</td>\n",
       "      <td>0</td>\n",
       "      <td>0</td>\n",
       "      <td>0</td>\n",
       "      <td>0</td>\n",
       "      <td>...</td>\n",
       "      <td>0</td>\n",
       "      <td>0</td>\n",
       "      <td>0</td>\n",
       "      <td>0</td>\n",
       "      <td>0</td>\n",
       "      <td>0</td>\n",
       "      <td>0</td>\n",
       "      <td>0</td>\n",
       "      <td>0</td>\n",
       "      <td>0</td>\n",
       "    </tr>\n",
       "    <tr>\n",
       "      <th>3</th>\n",
       "      <td>68.0</td>\n",
       "      <td>63</td>\n",
       "      <td>61</td>\n",
       "      <td>826</td>\n",
       "      <td>36</td>\n",
       "      <td>1</td>\n",
       "      <td>0</td>\n",
       "      <td>0</td>\n",
       "      <td>0</td>\n",
       "      <td>0</td>\n",
       "      <td>...</td>\n",
       "      <td>0</td>\n",
       "      <td>0</td>\n",
       "      <td>0</td>\n",
       "      <td>0</td>\n",
       "      <td>0</td>\n",
       "      <td>0</td>\n",
       "      <td>0</td>\n",
       "      <td>0</td>\n",
       "      <td>0</td>\n",
       "      <td>0</td>\n",
       "    </tr>\n",
       "    <tr>\n",
       "      <th>4</th>\n",
       "      <td>68.0</td>\n",
       "      <td>64</td>\n",
       "      <td>52</td>\n",
       "      <td>826</td>\n",
       "      <td>35</td>\n",
       "      <td>1</td>\n",
       "      <td>0</td>\n",
       "      <td>0</td>\n",
       "      <td>0</td>\n",
       "      <td>0</td>\n",
       "      <td>...</td>\n",
       "      <td>0</td>\n",
       "      <td>0</td>\n",
       "      <td>0</td>\n",
       "      <td>0</td>\n",
       "      <td>0</td>\n",
       "      <td>0</td>\n",
       "      <td>0</td>\n",
       "      <td>0</td>\n",
       "      <td>0</td>\n",
       "      <td>0</td>\n",
       "    </tr>\n",
       "  </tbody>\n",
       "</table>\n",
       "<p>5 rows × 88 columns</p>\n",
       "</div>"
      ],
      "text/plain": [
       "   floor_area_sqm  remaining_lease  block_fr  st_name_fr  years_since_leased  \\\n",
       "0            60.0               70        58         436                  29   \n",
       "1            68.0               65        56         826                  34   \n",
       "2            69.0               64        74         436                  35   \n",
       "3            68.0               63        61         826                  36   \n",
       "4            68.0               64        52         826                  35   \n",
       "\n",
       "   town:ANG MO KIO  town:BEDOK  town:BISHAN  town:BUKIT BATOK  \\\n",
       "0                1           0            0                 0   \n",
       "1                1           0            0                 0   \n",
       "2                1           0            0                 0   \n",
       "3                1           0            0                 0   \n",
       "4                1           0            0                 0   \n",
       "\n",
       "   town:BUKIT MERAH        ...         month_of_sale:03  month_of_sale:04  \\\n",
       "0                 0        ...                        0                 0   \n",
       "1                 0        ...                        0                 0   \n",
       "2                 0        ...                        0                 0   \n",
       "3                 0        ...                        0                 0   \n",
       "4                 0        ...                        0                 0   \n",
       "\n",
       "   month_of_sale:05  month_of_sale:06  month_of_sale:07  month_of_sale:08  \\\n",
       "0                 0                 0                 0                 0   \n",
       "1                 0                 0                 0                 0   \n",
       "2                 0                 0                 0                 0   \n",
       "3                 0                 0                 0                 0   \n",
       "4                 0                 0                 0                 0   \n",
       "\n",
       "   month_of_sale:09  month_of_sale:10  month_of_sale:11  month_of_sale:12  \n",
       "0                 0                 0                 0                 0  \n",
       "1                 0                 0                 0                 0  \n",
       "2                 0                 0                 0                 0  \n",
       "3                 0                 0                 0                 0  \n",
       "4                 0                 0                 0                 0  \n",
       "\n",
       "[5 rows x 88 columns]"
      ]
     },
     "execution_count": 13,
     "metadata": {},
     "output_type": "execute_result"
    }
   ],
   "source": [
    "X.head()"
   ]
  },
  {
   "cell_type": "markdown",
   "metadata": {},
   "source": [
    "# Before training a sales price prediction model, we  normalize numerical features. One-hot encoded columns (0/1 values) are not normalized."
   ]
  },
  {
   "cell_type": "code",
   "execution_count": 14,
   "metadata": {},
   "outputs": [
    {
     "data": {
      "text/plain": [
       "['floor_area_sqm',\n",
       " 'remaining_lease',\n",
       " 'block_fr',\n",
       " 'st_name_fr',\n",
       " 'years_since_leased']"
      ]
     },
     "execution_count": 14,
     "metadata": {},
     "output_type": "execute_result"
    }
   ],
   "source": [
    "numerical_features = [ft for ft in X.columns if ':' not in ft]\n",
    "numerical_features"
   ]
  },
  {
   "cell_type": "code",
   "execution_count": 15,
   "metadata": {},
   "outputs": [
    {
     "data": {
      "text/html": [
       "<div>\n",
       "<style>\n",
       "    .dataframe thead tr:only-child th {\n",
       "        text-align: right;\n",
       "    }\n",
       "\n",
       "    .dataframe thead th {\n",
       "        text-align: left;\n",
       "    }\n",
       "\n",
       "    .dataframe tbody tr th {\n",
       "        vertical-align: top;\n",
       "    }\n",
       "</style>\n",
       "<table border=\"1\" class=\"dataframe\">\n",
       "  <thead>\n",
       "    <tr style=\"text-align: right;\">\n",
       "      <th></th>\n",
       "      <th>floor_area_sqm</th>\n",
       "      <th>remaining_lease</th>\n",
       "      <th>block_fr</th>\n",
       "      <th>st_name_fr</th>\n",
       "      <th>years_since_leased</th>\n",
       "    </tr>\n",
       "  </thead>\n",
       "  <tbody>\n",
       "    <tr>\n",
       "      <th>0</th>\n",
       "      <td>60.0</td>\n",
       "      <td>70</td>\n",
       "      <td>58</td>\n",
       "      <td>436</td>\n",
       "      <td>29</td>\n",
       "    </tr>\n",
       "    <tr>\n",
       "      <th>1</th>\n",
       "      <td>68.0</td>\n",
       "      <td>65</td>\n",
       "      <td>56</td>\n",
       "      <td>826</td>\n",
       "      <td>34</td>\n",
       "    </tr>\n",
       "    <tr>\n",
       "      <th>2</th>\n",
       "      <td>69.0</td>\n",
       "      <td>64</td>\n",
       "      <td>74</td>\n",
       "      <td>436</td>\n",
       "      <td>35</td>\n",
       "    </tr>\n",
       "    <tr>\n",
       "      <th>3</th>\n",
       "      <td>68.0</td>\n",
       "      <td>63</td>\n",
       "      <td>61</td>\n",
       "      <td>826</td>\n",
       "      <td>36</td>\n",
       "    </tr>\n",
       "    <tr>\n",
       "      <th>4</th>\n",
       "      <td>68.0</td>\n",
       "      <td>64</td>\n",
       "      <td>52</td>\n",
       "      <td>826</td>\n",
       "      <td>35</td>\n",
       "    </tr>\n",
       "  </tbody>\n",
       "</table>\n",
       "</div>"
      ],
      "text/plain": [
       "   floor_area_sqm  remaining_lease  block_fr  st_name_fr  years_since_leased\n",
       "0            60.0               70        58         436                  29\n",
       "1            68.0               65        56         826                  34\n",
       "2            69.0               64        74         436                  35\n",
       "3            68.0               63        61         826                  36\n",
       "4            68.0               64        52         826                  35"
      ]
     },
     "execution_count": 15,
     "metadata": {},
     "output_type": "execute_result"
    }
   ],
   "source": [
    "X[numerical_features].head()"
   ]
  },
  {
   "cell_type": "code",
   "execution_count": 16,
   "metadata": {
    "collapsed": true
   },
   "outputs": [],
   "source": [
    "from sklearn.preprocessing import StandardScaler\n",
    "tmp = pd.DataFrame( StandardScaler(with_mean=True) . fit_transform(X[numerical_features]),  columns=numerical_features )\n",
    "tmp.head(10)\n",
    "X[numerical_features] = tmp\n",
    "del tmp"
   ]
  },
  {
   "cell_type": "code",
   "execution_count": 17,
   "metadata": {},
   "outputs": [
    {
     "data": {
      "text/html": [
       "<div>\n",
       "<style>\n",
       "    .dataframe thead tr:only-child th {\n",
       "        text-align: right;\n",
       "    }\n",
       "\n",
       "    .dataframe thead th {\n",
       "        text-align: left;\n",
       "    }\n",
       "\n",
       "    .dataframe tbody tr th {\n",
       "        vertical-align: top;\n",
       "    }\n",
       "</style>\n",
       "<table border=\"1\" class=\"dataframe\">\n",
       "  <thead>\n",
       "    <tr style=\"text-align: right;\">\n",
       "      <th></th>\n",
       "      <th>floor_area_sqm</th>\n",
       "      <th>remaining_lease</th>\n",
       "      <th>block_fr</th>\n",
       "      <th>st_name_fr</th>\n",
       "      <th>years_since_leased</th>\n",
       "    </tr>\n",
       "  </thead>\n",
       "  <tbody>\n",
       "    <tr>\n",
       "      <th>0</th>\n",
       "      <td>-1.552234</td>\n",
       "      <td>-0.357521</td>\n",
       "      <td>-0.246448</td>\n",
       "      <td>0.746815</td>\n",
       "      <td>0.398153</td>\n",
       "    </tr>\n",
       "    <tr>\n",
       "      <th>1</th>\n",
       "      <td>-1.221915</td>\n",
       "      <td>-0.795761</td>\n",
       "      <td>-0.284125</td>\n",
       "      <td>2.521708</td>\n",
       "      <td>0.837738</td>\n",
       "    </tr>\n",
       "    <tr>\n",
       "      <th>2</th>\n",
       "      <td>-1.180625</td>\n",
       "      <td>-0.883409</td>\n",
       "      <td>0.054964</td>\n",
       "      <td>0.746815</td>\n",
       "      <td>0.925655</td>\n",
       "    </tr>\n",
       "    <tr>\n",
       "      <th>3</th>\n",
       "      <td>-1.221915</td>\n",
       "      <td>-0.971057</td>\n",
       "      <td>-0.189934</td>\n",
       "      <td>2.521708</td>\n",
       "      <td>1.013572</td>\n",
       "    </tr>\n",
       "    <tr>\n",
       "      <th>4</th>\n",
       "      <td>-1.221915</td>\n",
       "      <td>-0.883409</td>\n",
       "      <td>-0.359478</td>\n",
       "      <td>2.521708</td>\n",
       "      <td>0.925655</td>\n",
       "    </tr>\n",
       "  </tbody>\n",
       "</table>\n",
       "</div>"
      ],
      "text/plain": [
       "   floor_area_sqm  remaining_lease  block_fr  st_name_fr  years_since_leased\n",
       "0       -1.552234        -0.357521 -0.246448    0.746815            0.398153\n",
       "1       -1.221915        -0.795761 -0.284125    2.521708            0.837738\n",
       "2       -1.180625        -0.883409  0.054964    0.746815            0.925655\n",
       "3       -1.221915        -0.971057 -0.189934    2.521708            1.013572\n",
       "4       -1.221915        -0.883409 -0.359478    2.521708            0.925655"
      ]
     },
     "execution_count": 17,
     "metadata": {},
     "output_type": "execute_result"
    }
   ],
   "source": [
    "X[numerical_features].head()"
   ]
  },
  {
   "cell_type": "code",
   "execution_count": 18,
   "metadata": {},
   "outputs": [
    {
     "data": {
      "image/png": "[encoded data removed]",
      "text/plain": [
       "<matplotlib.figure.Figure at 0x7f2770201240>"
      ]
     },
     "metadata": {},
     "output_type": "display_data"
    }
   ],
   "source": [
    "x = plt.plot(X.std(axis=0), 'o')\n",
    "\n",
    "plt . show()"
   ]
  },
  {
   "cell_type": "code",
   "execution_count": 19,
   "metadata": {},
   "outputs": [
    {
     "data": {
      "image/png": "[encoded data removed]",
      "text/plain": [
       "<matplotlib.figure.Figure at 0x7f2767058b70>"
      ]
     },
     "metadata": {},
     "output_type": "display_data"
    }
   ],
   "source": [
    "x = plt.plot(X . mean(axis=0), 'o')\n",
    "\n",
    "plt . show()\n"
   ]
  },
  {
   "cell_type": "markdown",
   "metadata": {},
   "source": [
    "## Too much variation in std and mean; normalize all features together to get them all with zero mean and std = 1"
   ]
  },
  {
   "cell_type": "code",
   "execution_count": 20,
   "metadata": {},
   "outputs": [
    {
     "data": {
      "image/png": "[encoded data removed]",
      "text/plain": [
       "<matplotlib.figure.Figure at 0x7f2766e61c18>"
      ]
     },
     "metadata": {},
     "output_type": "display_data"
    }
   ],
   "source": [
    "from sklearn.preprocessing import StandardScaler\n",
    "X_transformed = pd.DataFrame(StandardScaler(with_mean=True).fit_transform(X), columns=X.columns)\n",
    "X_transformed.head(10)\n",
    "\n",
    "iks = plt.plot(X_transformed.std(axis=0), 'o')\n",
    "\n",
    "plt . show()\n",
    "\n",
    "\n"
   ]
  },
  {
   "cell_type": "code",
   "execution_count": 21,
   "metadata": {},
   "outputs": [
    {
     "data": {
      "image/png": "[encoded data removed]",
      "text/plain": [
       "<matplotlib.figure.Figure at 0x7f276fbb4eb8>"
      ]
     },
     "metadata": {},
     "output_type": "display_data"
    }
   ],
   "source": [
    "iks = plt.plot(X_transformed.mean(axis=0), 'o')\n",
    "\n",
    "plt . show()\n"
   ]
  },
  {
   "cell_type": "markdown",
   "metadata": {},
   "source": [
    "## Now all data have zero mean and unit std."
   ]
  },
  {
   "cell_type": "code",
   "execution_count": 22,
   "metadata": {},
   "outputs": [
    {
     "data": {
      "image/png": "[encoded data removed]",
      "text/plain": [
       "<matplotlib.figure.Figure at 0x7f2763e25048>"
      ]
     },
     "metadata": {},
     "output_type": "display_data"
    }
   ],
   "source": [
    "iks = plt.hist(y, 20);\n",
    "\n",
    "plt . show()"
   ]
  },
  {
   "cell_type": "code",
   "execution_count": 23,
   "metadata": {
    "scrolled": true
   },
   "outputs": [
    {
     "data": {
      "text/plain": [
       "floor_area_sqm                       1.000007\n",
       "remaining_lease                      1.000007\n",
       "block_fr                             1.000007\n",
       "st_name_fr                           1.000007\n",
       "years_since_leased                   1.000007\n",
       "town:ANG MO KIO                      1.000007\n",
       "town:BEDOK                           1.000007\n",
       "town:BISHAN                          1.000007\n",
       "town:BUKIT BATOK                     1.000007\n",
       "town:BUKIT MERAH                     1.000007\n",
       "town:BUKIT PANJANG                   1.000007\n",
       "town:BUKIT TIMAH                     1.000007\n",
       "town:CENTRAL AREA                    1.000007\n",
       "town:CHOA CHU KANG                   1.000007\n",
       "town:CLEMENTI                        1.000007\n",
       "town:GEYLANG                         1.000007\n",
       "town:HOUGANG                         1.000007\n",
       "town:JURONG EAST                     1.000007\n",
       "town:JURONG WEST                     1.000007\n",
       "town:KALLANG/WHAMPOA                 1.000007\n",
       "town:MARINE PARADE                   1.000007\n",
       "town:PASIR RIS                       1.000007\n",
       "town:PUNGGOL                         1.000007\n",
       "town:QUEENSTOWN                      1.000007\n",
       "town:SEMBAWANG                       1.000007\n",
       "town:SENGKANG                        1.000007\n",
       "town:SERANGOON                       1.000007\n",
       "town:TAMPINES                        1.000007\n",
       "town:TOA PAYOH                       1.000007\n",
       "town:WOODLANDS                       1.000007\n",
       "                                       ...   \n",
       "flat_model:DBSS                      1.000007\n",
       "flat_model:Improved                  1.000007\n",
       "flat_model:Improved-Maisonette       1.000007\n",
       "flat_model:Maisonette                1.000007\n",
       "flat_model:Model A                   1.000007\n",
       "flat_model:Model A-Maisonette        1.000007\n",
       "flat_model:Model A2                  1.000007\n",
       "flat_model:Multi Generation          1.000007\n",
       "flat_model:New Generation            1.000007\n",
       "flat_model:Premium Apartment         1.000007\n",
       "flat_model:Premium Apartment Loft    1.000007\n",
       "flat_model:Premium Apartment.        1.000007\n",
       "flat_model:Premium Maisonette        1.000007\n",
       "flat_model:Simplified                1.000007\n",
       "flat_model:Standard                  1.000007\n",
       "flat_model:Terrace                   1.000007\n",
       "flat_model:Type S1                   1.000007\n",
       "flat_model:Type S2                   1.000007\n",
       "month_of_sale:01                     1.000007\n",
       "month_of_sale:02                     1.000007\n",
       "month_of_sale:03                     1.000007\n",
       "month_of_sale:04                     1.000007\n",
       "month_of_sale:05                     1.000007\n",
       "month_of_sale:06                     1.000007\n",
       "month_of_sale:07                     1.000007\n",
       "month_of_sale:08                     1.000007\n",
       "month_of_sale:09                     1.000007\n",
       "month_of_sale:10                     1.000007\n",
       "month_of_sale:11                     1.000007\n",
       "month_of_sale:12                     1.000007\n",
       "Length: 88, dtype: float64"
      ]
     },
     "execution_count": 23,
     "metadata": {},
     "output_type": "execute_result"
    }
   ],
   "source": [
    "X_transformed.std(axis=0)"
   ]
  },
  {
   "cell_type": "code",
   "execution_count": 24,
   "metadata": {},
   "outputs": [
    {
     "data": {
      "text/plain": [
       "floor_area_sqm                       3.278318e-15\n",
       "remaining_lease                     -5.998708e-16\n",
       "block_fr                            -3.016741e-15\n",
       "st_name_fr                           7.251737e-16\n",
       "years_since_leased                  -1.686090e-15\n",
       "town:ANG MO KIO                      1.843024e-14\n",
       "town:BEDOK                          -1.241965e-14\n",
       "town:BISHAN                          2.200317e-15\n",
       "town:BUKIT BATOK                     3.641749e-15\n",
       "town:BUKIT MERAH                     7.499563e-16\n",
       "town:BUKIT PANJANG                   2.228677e-15\n",
       "town:BUKIT TIMAH                    -7.814698e-15\n",
       "town:CENTRAL AREA                    1.137554e-14\n",
       "town:CHOA CHU KANG                  -7.980559e-15\n",
       "town:CLEMENTI                        5.070270e-15\n",
       "town:GEYLANG                        -1.871189e-14\n",
       "town:HOUGANG                        -5.566935e-15\n",
       "town:JURONG EAST                    -2.290277e-15\n",
       "town:JURONG WEST                     1.294658e-16\n",
       "town:KALLANG/WHAMPOA                -1.550734e-15\n",
       "town:MARINE PARADE                  -1.179142e-15\n",
       "town:PASIR RIS                      -2.004195e-15\n",
       "town:PUNGGOL                         3.048202e-15\n",
       "town:QUEENSTOWN                     -6.595505e-17\n",
       "town:SEMBAWANG                       4.015975e-16\n",
       "town:SENGKANG                       -6.390481e-15\n",
       "town:SERANGOON                       2.345528e-15\n",
       "town:TAMPINES                        2.895393e-16\n",
       "town:TOA PAYOH                      -1.191245e-14\n",
       "town:WOODLANDS                      -2.597502e-15\n",
       "                                         ...     \n",
       "flat_model:DBSS                      5.994217e-14\n",
       "flat_model:Improved                 -4.880510e-15\n",
       "flat_model:Improved-Maisonette       1.898667e-15\n",
       "flat_model:Maisonette               -6.804623e-15\n",
       "flat_model:Model A                   1.056624e-15\n",
       "flat_model:Model A-Maisonette       -1.645576e-15\n",
       "flat_model:Model A2                 -6.508129e-16\n",
       "flat_model:Multi Generation         -5.858130e-15\n",
       "flat_model:New Generation           -2.340598e-14\n",
       "flat_model:Premium Apartment         1.402072e-14\n",
       "flat_model:Premium Apartment Loft   -4.023999e-16\n",
       "flat_model:Premium Apartment.        2.083269e-14\n",
       "flat_model:Premium Maisonette       -1.198309e-15\n",
       "flat_model:Simplified                1.201524e-14\n",
       "flat_model:Standard                  6.119474e-15\n",
       "flat_model:Terrace                   1.089872e-15\n",
       "flat_model:Type S1                  -1.606043e-14\n",
       "flat_model:Type S2                   4.125811e-16\n",
       "month_of_sale:01                    -4.232507e-14\n",
       "month_of_sale:02                    -5.244639e-14\n",
       "month_of_sale:03                     5.215625e-15\n",
       "month_of_sale:04                    -2.593566e-14\n",
       "month_of_sale:05                    -5.988726e-14\n",
       "month_of_sale:06                     5.358965e-14\n",
       "month_of_sale:07                     5.448531e-14\n",
       "month_of_sale:08                    -5.422967e-14\n",
       "month_of_sale:09                     1.694653e-14\n",
       "month_of_sale:10                     4.414072e-14\n",
       "month_of_sale:11                    -6.821740e-14\n",
       "month_of_sale:12                     3.488933e-15\n",
       "Length: 88, dtype: float64"
      ]
     },
     "execution_count": 24,
     "metadata": {},
     "output_type": "execute_result"
    }
   ],
   "source": [
    "X_transformed.mean(axis=0)"
   ]
  },
  {
   "cell_type": "markdown",
   "metadata": {},
   "source": [
    "# Train a simple linear regression model.\n",
    "- First, split data for testing. "
   ]
  },
  {
   "cell_type": "code",
   "execution_count": 25,
   "metadata": {
    "collapsed": true
   },
   "outputs": [],
   "source": [
    "from sklearn.linear_model import LinearRegression as LR\n",
    "from sklearn.model_selection import train_test_split"
   ]
  },
  {
   "cell_type": "markdown",
   "metadata": {},
   "source": [
    "## Divide the data into two categories:\n",
    "- 67% to use in training\n",
    "- 33% to test the model"
   ]
  },
  {
   "cell_type": "code",
   "execution_count": 26,
   "metadata": {},
   "outputs": [
    {
     "name": "stdout",
     "output_type": "stream",
     "text": [
      "0.886371478205 0.884004146773\n"
     ]
    }
   ],
   "source": [
    "X_train, X_test, y_train, y_test = train_test_split(X_transformed, y, test_size=0.33, random_state=42)\n",
    "model = LR()\n",
    "model.fit(X_train, y_train)\n",
    "print (model.score(X_train, y_train), model.score(X_test, y_test))"
   ]
  },
  {
   "cell_type": "markdown",
   "metadata": {},
   "source": [
    "## score = 1 is the perfect prediction. Here score = 0.88 is a satisfactory result!"
   ]
  },
  {
   "cell_type": "code",
   "execution_count": 27,
   "metadata": {},
   "outputs": [
    {
     "data": {
      "text/html": [
       "<div>\n",
       "<style>\n",
       "    .dataframe thead tr:only-child th {\n",
       "        text-align: right;\n",
       "    }\n",
       "\n",
       "    .dataframe thead th {\n",
       "        text-align: left;\n",
       "    }\n",
       "\n",
       "    .dataframe tbody tr th {\n",
       "        vertical-align: top;\n",
       "    }\n",
       "</style>\n",
       "<table border=\"1\" class=\"dataframe\">\n",
       "  <thead>\n",
       "    <tr style=\"text-align: right;\">\n",
       "      <th></th>\n",
       "      <th>floor_area_sqm</th>\n",
       "      <th>remaining_lease</th>\n",
       "      <th>block_fr</th>\n",
       "      <th>st_name_fr</th>\n",
       "      <th>years_since_leased</th>\n",
       "      <th>town:ANG MO KIO</th>\n",
       "      <th>town:BEDOK</th>\n",
       "      <th>town:BISHAN</th>\n",
       "      <th>town:BUKIT BATOK</th>\n",
       "      <th>town:BUKIT MERAH</th>\n",
       "      <th>...</th>\n",
       "      <th>month_of_sale:03</th>\n",
       "      <th>month_of_sale:04</th>\n",
       "      <th>month_of_sale:05</th>\n",
       "      <th>month_of_sale:06</th>\n",
       "      <th>month_of_sale:07</th>\n",
       "      <th>month_of_sale:08</th>\n",
       "      <th>month_of_sale:09</th>\n",
       "      <th>month_of_sale:10</th>\n",
       "      <th>month_of_sale:11</th>\n",
       "      <th>month_of_sale:12</th>\n",
       "    </tr>\n",
       "  </thead>\n",
       "  <tbody>\n",
       "    <tr>\n",
       "      <th>41456</th>\n",
       "      <td>-0.561277</td>\n",
       "      <td>-0.445169</td>\n",
       "      <td>1.637378</td>\n",
       "      <td>2.762911</td>\n",
       "      <td>0.486070</td>\n",
       "      <td>-0.225465</td>\n",
       "      <td>3.940131</td>\n",
       "      <td>-0.140894</td>\n",
       "      <td>-0.201339</td>\n",
       "      <td>-0.199715</td>\n",
       "      <td>...</td>\n",
       "      <td>-0.327953</td>\n",
       "      <td>2.966962</td>\n",
       "      <td>-0.336755</td>\n",
       "      <td>-0.340541</td>\n",
       "      <td>-0.345474</td>\n",
       "      <td>-0.285995</td>\n",
       "      <td>-0.272818</td>\n",
       "      <td>-0.283613</td>\n",
       "      <td>-0.278357</td>\n",
       "      <td>-0.258375</td>\n",
       "    </tr>\n",
       "    <tr>\n",
       "      <th>54269</th>\n",
       "      <td>1.338057</td>\n",
       "      <td>-0.532817</td>\n",
       "      <td>0.488244</td>\n",
       "      <td>-0.941609</td>\n",
       "      <td>0.486070</td>\n",
       "      <td>-0.225465</td>\n",
       "      <td>-0.253799</td>\n",
       "      <td>-0.140894</td>\n",
       "      <td>4.966740</td>\n",
       "      <td>-0.199715</td>\n",
       "      <td>...</td>\n",
       "      <td>-0.327953</td>\n",
       "      <td>-0.337045</td>\n",
       "      <td>-0.336755</td>\n",
       "      <td>-0.340541</td>\n",
       "      <td>-0.345474</td>\n",
       "      <td>-0.285995</td>\n",
       "      <td>-0.272818</td>\n",
       "      <td>-0.283613</td>\n",
       "      <td>3.592509</td>\n",
       "      <td>-0.258375</td>\n",
       "    </tr>\n",
       "    <tr>\n",
       "      <th>4894</th>\n",
       "      <td>0.512260</td>\n",
       "      <td>1.132496</td>\n",
       "      <td>-1.037656</td>\n",
       "      <td>0.478305</td>\n",
       "      <td>-1.096437</td>\n",
       "      <td>-0.225465</td>\n",
       "      <td>-0.253799</td>\n",
       "      <td>-0.140894</td>\n",
       "      <td>-0.201339</td>\n",
       "      <td>-0.199715</td>\n",
       "      <td>...</td>\n",
       "      <td>-0.327953</td>\n",
       "      <td>2.966962</td>\n",
       "      <td>-0.336755</td>\n",
       "      <td>-0.340541</td>\n",
       "      <td>-0.345474</td>\n",
       "      <td>-0.285995</td>\n",
       "      <td>-0.272818</td>\n",
       "      <td>-0.283613</td>\n",
       "      <td>-0.278357</td>\n",
       "      <td>-0.258375</td>\n",
       "    </tr>\n",
       "    <tr>\n",
       "      <th>68740</th>\n",
       "      <td>0.553549</td>\n",
       "      <td>0.957200</td>\n",
       "      <td>-1.169524</td>\n",
       "      <td>1.274732</td>\n",
       "      <td>-1.008520</td>\n",
       "      <td>-0.225465</td>\n",
       "      <td>-0.253799</td>\n",
       "      <td>-0.140894</td>\n",
       "      <td>-0.201339</td>\n",
       "      <td>-0.199715</td>\n",
       "      <td>...</td>\n",
       "      <td>-0.327953</td>\n",
       "      <td>-0.337045</td>\n",
       "      <td>-0.336755</td>\n",
       "      <td>-0.340541</td>\n",
       "      <td>2.894572</td>\n",
       "      <td>-0.285995</td>\n",
       "      <td>-0.272818</td>\n",
       "      <td>-0.283613</td>\n",
       "      <td>-0.278357</td>\n",
       "      <td>-0.258375</td>\n",
       "    </tr>\n",
       "    <tr>\n",
       "      <th>29399</th>\n",
       "      <td>1.792245</td>\n",
       "      <td>0.606608</td>\n",
       "      <td>0.262185</td>\n",
       "      <td>0.332673</td>\n",
       "      <td>-0.656852</td>\n",
       "      <td>-0.225465</td>\n",
       "      <td>-0.253799</td>\n",
       "      <td>-0.140894</td>\n",
       "      <td>-0.201339</td>\n",
       "      <td>-0.199715</td>\n",
       "      <td>...</td>\n",
       "      <td>-0.327953</td>\n",
       "      <td>-0.337045</td>\n",
       "      <td>-0.336755</td>\n",
       "      <td>-0.340541</td>\n",
       "      <td>-0.345474</td>\n",
       "      <td>3.496566</td>\n",
       "      <td>-0.272818</td>\n",
       "      <td>-0.283613</td>\n",
       "      <td>-0.278357</td>\n",
       "      <td>-0.258375</td>\n",
       "    </tr>\n",
       "  </tbody>\n",
       "</table>\n",
       "<p>5 rows × 88 columns</p>\n",
       "</div>"
      ],
      "text/plain": [
       "       floor_area_sqm  remaining_lease  block_fr  st_name_fr  \\\n",
       "41456       -0.561277        -0.445169  1.637378    2.762911   \n",
       "54269        1.338057        -0.532817  0.488244   -0.941609   \n",
       "4894         0.512260         1.132496 -1.037656    0.478305   \n",
       "68740        0.553549         0.957200 -1.169524    1.274732   \n",
       "29399        1.792245         0.606608  0.262185    0.332673   \n",
       "\n",
       "       years_since_leased  town:ANG MO KIO  town:BEDOK  town:BISHAN  \\\n",
       "41456            0.486070        -0.225465    3.940131    -0.140894   \n",
       "54269            0.486070        -0.225465   -0.253799    -0.140894   \n",
       "4894            -1.096437        -0.225465   -0.253799    -0.140894   \n",
       "68740           -1.008520        -0.225465   -0.253799    -0.140894   \n",
       "29399           -0.656852        -0.225465   -0.253799    -0.140894   \n",
       "\n",
       "       town:BUKIT BATOK  town:BUKIT MERAH        ...         month_of_sale:03  \\\n",
       "41456         -0.201339         -0.199715        ...                -0.327953   \n",
       "54269          4.966740         -0.199715        ...                -0.327953   \n",
       "4894          -0.201339         -0.199715        ...                -0.327953   \n",
       "68740         -0.201339         -0.199715        ...                -0.327953   \n",
       "29399         -0.201339         -0.199715        ...                -0.327953   \n",
       "\n",
       "       month_of_sale:04  month_of_sale:05  month_of_sale:06  month_of_sale:07  \\\n",
       "41456          2.966962         -0.336755         -0.340541         -0.345474   \n",
       "54269         -0.337045         -0.336755         -0.340541         -0.345474   \n",
       "4894           2.966962         -0.336755         -0.340541         -0.345474   \n",
       "68740         -0.337045         -0.336755         -0.340541          2.894572   \n",
       "29399         -0.337045         -0.336755         -0.340541         -0.345474   \n",
       "\n",
       "       month_of_sale:08  month_of_sale:09  month_of_sale:10  month_of_sale:11  \\\n",
       "41456         -0.285995         -0.272818         -0.283613         -0.278357   \n",
       "54269         -0.285995         -0.272818         -0.283613          3.592509   \n",
       "4894          -0.285995         -0.272818         -0.283613         -0.278357   \n",
       "68740         -0.285995         -0.272818         -0.283613         -0.278357   \n",
       "29399          3.496566         -0.272818         -0.283613         -0.278357   \n",
       "\n",
       "       month_of_sale:12  \n",
       "41456         -0.258375  \n",
       "54269         -0.258375  \n",
       "4894          -0.258375  \n",
       "68740         -0.258375  \n",
       "29399         -0.258375  \n",
       "\n",
       "[5 rows x 88 columns]"
      ]
     },
     "execution_count": 27,
     "metadata": {},
     "output_type": "execute_result"
    }
   ],
   "source": [
    "X_test.head()"
   ]
  },
  {
   "cell_type": "code",
   "execution_count": 28,
   "metadata": {},
   "outputs": [
    {
     "data": {
      "text/plain": [
       "12.948605128737341"
      ]
     },
     "execution_count": 28,
     "metadata": {},
     "output_type": "execute_result"
    }
   ],
   "source": [
    "model.intercept_\n"
   ]
  },
  {
   "cell_type": "code",
   "execution_count": 29,
   "metadata": {
    "scrolled": true
   },
   "outputs": [
    {
     "data": {
      "text/plain": [
       "array([  1.64641546e-01,  -6.01982079e-04,   1.26399425e-02,\n",
       "        -1.01328035e-02,  -1.01332263e-01,  -2.56859876e+10,\n",
       "        -2.85450233e+10,  -1.65389529e+10,  -2.31644708e+10,\n",
       "        -2.29919968e+10,  -2.23163467e+10,  -6.15652747e+09,\n",
       "        -1.19817509e+10,  -2.46454446e+10,  -1.82023686e+10,\n",
       "        -1.92444209e+10,  -2.60298984e+10,  -1.77941684e+10,\n",
       "        -3.20399556e+10,  -2.08886625e+10,  -9.32612760e+09,\n",
       "        -2.07406092e+10,  -2.70497055e+10,  -1.91988757e+10,\n",
       "        -1.92696719e+10,  -3.10493415e+10,  -1.74937813e+10,\n",
       "        -3.01551693e+10,  -2.12852614e+10,  -3.08989498e+10,\n",
       "        -2.81009492e+10,   1.16709557e+10,   5.90901689e+10,\n",
       "         2.54419461e+11,   2.86599189e+11,   2.49570940e+11,\n",
       "         1.58553327e+11,   2.68940667e+11,   1.06111980e+11,\n",
       "         1.16482566e+11,   1.13328947e+11,   1.08078803e+11,\n",
       "         7.84887318e+10,   5.21473593e+10,   3.46629235e+10,\n",
       "         2.95766926e+10,   2.15409550e+10,   1.77277053e+10,\n",
       "         1.16590883e+10,   1.21564089e+10,   1.18877421e+10,\n",
       "         8.37772534e+09,   3.60101653e+09,   4.02597229e+09,\n",
       "         2.75042037e+09,  -1.90586621e+09,  -1.97911484e+10,\n",
       "        -9.99136666e+10,  -5.10500515e+10,  -2.18732135e+11,\n",
       "        -6.60159373e+09,  -8.41048026e+10,  -2.31283946e+11,\n",
       "        -2.05098825e+10,  -6.17490998e+10,  -2.67858503e+11,\n",
       "        -1.83368551e+11,  -1.54455992e+11,  -5.04223120e+09,\n",
       "        -8.93795943e+09,  -4.26152424e+09,  -1.06817599e+11,\n",
       "        -8.62120745e+10,  -1.21999992e+10,  -2.74459856e+10,\n",
       "        -1.85635675e+10,   4.82388364e+10,   4.74497089e+10,\n",
       "         5.65359764e+10,   5.77878543e+10,   5.77482477e+10,\n",
       "         5.82633721e+10,   5.89286407e+10,   5.04767870e+10,\n",
       "         4.84810508e+10,   5.01191853e+10,   4.93252716e+10,\n",
       "         4.62446619e+10])"
      ]
     },
     "execution_count": 29,
     "metadata": {},
     "output_type": "execute_result"
    }
   ],
   "source": [
    "model.coef_"
   ]
  },
  {
   "cell_type": "markdown",
   "metadata": {},
   "source": [
    "# We sort weights of the model to display highest weights. These heighest weights can be interpreted as the most important features"
   ]
  },
  {
   "cell_type": "code",
   "execution_count": 40,
   "metadata": {},
   "outputs": [
    {
     "data": {
      "text/plain": [
       "[('flat_type:4 ROOM', 286599189155.26489),\n",
       " ('flat_type:MULTI-GENERATION', 268940666767.81485),\n",
       " ('flat_model:Multi Generation', -267858503122.13867),\n",
       " ('flat_type:3 ROOM', 254419461230.31491),\n",
       " ('flat_type:5 ROOM', 249570939877.1312),\n",
       " ('flat_model:Model A', -231283945683.41068),\n",
       " ('flat_model:Improved', -218732134718.73605),\n",
       " ('flat_model:New Generation', -183368550695.13602),\n",
       " ('flat_type:EXECUTIVE', 158553326804.43845),\n",
       " ('flat_model:Premium Apartment', -154455992228.64932),\n",
       " ('storey_range:04 TO 06', 116482566492.614),\n",
       " ('storey_range:07 TO 09', 113328946845.50658),\n",
       " ('storey_range:10 TO 12', 108078802711.82718),\n",
       " ('flat_model:Simplified', -106817599099.69998),\n",
       " ('storey_range:01 TO 03', 106111980263.95961),\n",
       " ('flat_model:Apartment', -99913666641.127258),\n",
       " ('flat_model:Standard', -86212074452.361359),\n",
       " ('flat_model:Maisonette', -84104802565.035965),\n",
       " ('storey_range:13 TO 15', 78488731786.835892),\n",
       " ('flat_model:Model A2', -61749099839.882561),\n",
       " ('flat_type:2 ROOM', 59090168878.369148),\n",
       " ('month_of_sale:07', 58928640709.530174),\n",
       " ('month_of_sale:06', 58263372073.2005),\n",
       " ('month_of_sale:04', 57787854284.229279),\n",
       " ('month_of_sale:05', 57748247715.153931),\n",
       " ('month_of_sale:03', 56535976388.975571),\n",
       " ('storey_range:16 TO 18', 52147359327.861397),\n",
       " ('flat_model:DBSS', -51050051474.587456),\n",
       " ('month_of_sale:08', 50476787013.687813),\n",
       " ('month_of_sale:10', 50119185318.607635),\n",
       " ('month_of_sale:11', 49325271604.368835),\n",
       " ('month_of_sale:09', 48481050798.9618),\n",
       " ('month_of_sale:01', 48238836403.518364),\n",
       " ('month_of_sale:02', 47449708901.937798),\n",
       " ('month_of_sale:12', 46244661893.286484),\n",
       " ('storey_range:19 TO 21', 34662923468.244652),\n",
       " ('town:JURONG WEST', -32039955559.54213),\n",
       " ('town:SENGKANG', -31049341539.221172),\n",
       " ('town:WOODLANDS', -30898949836.848587),\n",
       " ('town:TAMPINES', -30155169338.418282)]"
      ]
     },
     "execution_count": 40,
     "metadata": {},
     "output_type": "execute_result"
    }
   ],
   "source": [
    "sorted(zip(X_transformed.columns, model.coef_), key = lambda x:-abs(x[1]))[:40]"
   ]
  },
  {
   "cell_type": "markdown",
   "metadata": {},
   "source": [
    "# Accordingly, most important features that are drivers of the prices of houses are:\n",
    "\n",
    "- flat_type: highest groups are4 rooms and  MULTI-GENERATION\n",
    "- flat_model"
   ]
  },
  {
   "cell_type": "code",
   "execution_count": 41,
   "metadata": {},
   "outputs": [
    {
     "data": {
      "text/plain": [
       "12.948605128737341"
      ]
     },
     "execution_count": 41,
     "metadata": {},
     "output_type": "execute_result"
    }
   ],
   "source": [
    "# lets have a look at the predicted offset\n",
    "\n",
    "model.intercept_"
   ]
  },
  {
   "cell_type": "code",
   "execution_count": 42,
   "metadata": {},
   "outputs": [
    {
     "data": {
      "image/png": "[encoded data removed]",
      "text/plain": [
       "<matplotlib.figure.Figure at 0x7f27616a54a8>"
      ]
     },
     "metadata": {},
     "output_type": "display_data"
    }
   ],
   "source": [
    "# and compare the predicted offset  with original offsets\n",
    "iks = plt.plot(y, 'o')\n",
    "\n",
    "plt . show()"
   ]
  },
  {
   "cell_type": "code",
   "execution_count": 43,
   "metadata": {},
   "outputs": [
    {
     "data": {
      "text/plain": [
       "12.687130519362341"
      ]
     },
     "execution_count": 43,
     "metadata": {},
     "output_type": "execute_result"
    }
   ],
   "source": [
    "np.dot(model.coef_, X_transformed.loc[0]) + model.intercept_\n",
    "\n",
    "#This must be equal to predicted y_0"
   ]
  },
  {
   "cell_type": "markdown",
   "metadata": {},
   "source": [
    "## Good agreement!"
   ]
  },
  {
   "cell_type": "code",
   "execution_count": 68,
   "metadata": {},
   "outputs": [
    {
     "data": {
      "text/plain": [
       "(88,)"
      ]
     },
     "execution_count": 68,
     "metadata": {},
     "output_type": "execute_result"
    }
   ],
   "source": [
    "model.coef_.shape\n",
    "X.loc[10].shape"
   ]
  },
  {
   "cell_type": "code",
   "execution_count": 45,
   "metadata": {},
   "outputs": [
    {
     "data": {
      "text/plain": [
       "array([ 12.68725259,  12.64623696,  12.66637857,  12.62975747,\n",
       "        12.70275552,  12.71996743,  12.67602212,  12.67236001,\n",
       "        12.66601236,  12.78063638,  12.69311196])"
      ]
     },
     "execution_count": 45,
     "metadata": {},
     "output_type": "execute_result"
    }
   ],
   "source": [
    "# predict prices of 10 first entries of the list\n",
    "\n",
    "model.predict(X_transformed.loc[0:10])\n"
   ]
  },
  {
   "cell_type": "code",
   "execution_count": 47,
   "metadata": {},
   "outputs": [
    {
     "data": {
      "text/plain": [
       "0    12.449019\n",
       "1    12.524526\n",
       "2    12.560244\n",
       "3    12.577636\n",
       "4    12.577636\n",
       "5    12.577636\n",
       "6    12.577636\n",
       "7    12.587928\n",
       "8    12.611538\n",
       "9    12.636230\n",
       "Name: resale_price, dtype: float64"
      ]
     },
     "execution_count": 47,
     "metadata": {},
     "output_type": "execute_result"
    }
   ],
   "source": [
    "# original prices\n",
    "\n",
    "y[:10]"
   ]
  },
  {
   "cell_type": "markdown",
   "metadata": {},
   "source": [
    "## Good agreement!"
   ]
  },
  {
   "cell_type": "code",
   "execution_count": 71,
   "metadata": {},
   "outputs": [
    {
     "data": {
      "image/png": "[encoded data removed]",
      "text/plain": [
       "<matplotlib.figure.Figure at 0x7f968c8bd198>"
      ]
     },
     "metadata": {},
     "output_type": "display_data"
    }
   ],
   "source": [
    "# Now lets compare predicted y values with original values\n",
    "\n",
    "iks = plt.plot(y, model.predict(X_transformed), '.')\n",
    "\n",
    "# This must be a line with slope 1\n",
    "\n",
    "plt . show()"
   ]
  },
  {
   "cell_type": "code",
   "execution_count": 48,
   "metadata": {},
   "outputs": [
    {
     "data": {
      "image/png": "[encoded data removed]",
      "text/plain": [
       "<matplotlib.figure.Figure at 0x7f276704b2e8>"
      ]
     },
     "metadata": {},
     "output_type": "display_data"
    }
   ],
   "source": [
    "# Lets have a look at the distribution of the noise\n",
    "\n",
    "iks = plt.hist(model.predict(X_transformed) - y, 20)\n",
    "\n",
    "plt . show()"
   ]
  },
  {
   "cell_type": "markdown",
   "metadata": {
    "collapsed": true
   },
   "source": [
    "# Conclusion:\n",
    "- Drivers of prices of houses according to this analysis are \"flat type\" and \"flat model\". This is not a trivial result! One may expect that location has a higher impact as turns out to be not very important.\n",
    "- One may argue that since there are correlations between different features, as pointed out by the non-zero correlation coefficint $\\rho$ in previous analysis, highest weights can not correspond to important features. A rather conservative approach would be to perform a principal axes analysis. However, our analysis gives a naive perspective about driving mechanisms of the housing prices.\n"
   ]
  },
  {
   "cell_type": "code",
   "execution_count": null,
   "metadata": {
    "collapsed": true
   },
   "outputs": [],
   "source": []
  },
  {
   "cell_type": "code",
   "execution_count": null,
   "metadata": {
    "collapsed": true
   },
   "outputs": [],
   "source": []
  },
  {
   "cell_type": "code",
   "execution_count": null,
   "metadata": {
    "collapsed": true
   },
   "outputs": [],
   "source": []
  }
 ],
 "metadata": {
  "kernelspec": {
   "display_name": "Python 3",
   "language": "python",
   "name": "python3"
  },
  "language_info": {
   "codemirror_mode": {
    "name": "ipython",
    "version": 3
   },
   "file_extension": ".py",
   "mimetype": "text/x-python",
   "name": "python",
   "nbconvert_exporter": "python",
   "pygments_lexer": "ipython3",
   "version": "3.6.3"
  }
 },
 "nbformat": 4,
 "nbformat_minor": 2
}
